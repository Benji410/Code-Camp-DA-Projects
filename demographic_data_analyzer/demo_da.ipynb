{
 "cells": [
  {
   "cell_type": "markdown",
   "metadata": {},
   "source": [
    "# Demographic Data Analyzer\n",
    "\n",
    "**Obj:** Using 1994 Census Data, analyze the demographics of this database\n",
    "\n",
    "Notes: The boilerplate code given anlayzes data in a python file. To make debugging python code easier, we are using a ipython Jupyter Lab notebook. \n"
   ]
  },
  {
   "cell_type": "markdown",
   "metadata": {},
   "source": [
    "## Import Libraries"
   ]
  },
  {
   "cell_type": "code",
   "execution_count": 2,
   "metadata": {},
   "outputs": [],
   "source": [
    "import pandas as pd\n",
    "import numpy as np\n",
    "import matplotlib.pyplot as plt \n",
    "import altair as alt\n",
    "\n",
    "import warnings \n",
    "# Settings the warnings to be ignored \n",
    "warnings.filterwarnings('ignore') "
   ]
  },
  {
   "cell_type": "markdown",
   "metadata": {},
   "source": [
    "## Questions to Answer\n",
    "\n",
    "* How many people of each race are represented in this dataset? This should be a Pandas series with race names as the index labels. (race column)\n",
    "* What is the average age of men?\n",
    "* What is the percentage of people who have a Bachelor's degree?\n",
    "* What percentage of people with advanced education (Bachelors, Masters, or Doctorate) make more than 50K?\n",
    "* What percentage of people without advanced education make more than 50K?\n",
    "* What is the minimum number of hours a person works per week?\n",
    "* What percentage of the people who work the minimum number of hours per week have a salary of more than 50K?\n",
    "* What country has the highest percentage of people that earn >50K and what is that percentage?\n",
    "* Identify the most popular occupation for those who earn >50K in India."
   ]
  },
  {
   "cell_type": "markdown",
   "metadata": {},
   "source": [
    "## Data Imports"
   ]
  },
  {
   "cell_type": "code",
   "execution_count": 3,
   "metadata": {},
   "outputs": [],
   "source": [
    "df = pd.read_csv('adult.data.csv')"
   ]
  },
  {
   "cell_type": "code",
   "execution_count": 4,
   "metadata": {},
   "outputs": [
    {
     "name": "stdout",
     "output_type": "stream",
     "text": [
      "age                int64\n",
      "workclass         object\n",
      "fnlwgt             int64\n",
      "education         object\n",
      "education-num      int64\n",
      "marital-status    object\n",
      "occupation        object\n",
      "relationship      object\n",
      "race              object\n",
      "sex               object\n",
      "capital-gain       int64\n",
      "capital-loss       int64\n",
      "hours-per-week     int64\n",
      "native-country    object\n",
      "salary            object\n",
      "dtype: object\n",
      "                age        fnlwgt  education-num  capital-gain  capital-loss  \\\n",
      "count  32561.000000  3.256100e+04   32561.000000  32561.000000  32561.000000   \n",
      "mean      38.581647  1.897784e+05      10.080679   1077.648844     87.303830   \n",
      "std       13.640433  1.055500e+05       2.572720   7385.292085    402.960219   \n",
      "min       17.000000  1.228500e+04       1.000000      0.000000      0.000000   \n",
      "25%       28.000000  1.178270e+05       9.000000      0.000000      0.000000   \n",
      "50%       37.000000  1.783560e+05      10.000000      0.000000      0.000000   \n",
      "75%       48.000000  2.370510e+05      12.000000      0.000000      0.000000   \n",
      "max       90.000000  1.484705e+06      16.000000  99999.000000   4356.000000   \n",
      "\n",
      "       hours-per-week  \n",
      "count    32561.000000  \n",
      "mean        40.437456  \n",
      "std         12.347429  \n",
      "min          1.000000  \n",
      "25%         40.000000  \n",
      "50%         40.000000  \n",
      "75%         45.000000  \n",
      "max         99.000000  \n",
      "32561\n"
     ]
    },
    {
     "data": {
      "text/html": [
       "<div>\n",
       "<style scoped>\n",
       "    .dataframe tbody tr th:only-of-type {\n",
       "        vertical-align: middle;\n",
       "    }\n",
       "\n",
       "    .dataframe tbody tr th {\n",
       "        vertical-align: top;\n",
       "    }\n",
       "\n",
       "    .dataframe thead th {\n",
       "        text-align: right;\n",
       "    }\n",
       "</style>\n",
       "<table border=\"1\" class=\"dataframe\">\n",
       "  <thead>\n",
       "    <tr style=\"text-align: right;\">\n",
       "      <th></th>\n",
       "      <th>age</th>\n",
       "      <th>workclass</th>\n",
       "      <th>fnlwgt</th>\n",
       "      <th>education</th>\n",
       "      <th>education-num</th>\n",
       "      <th>marital-status</th>\n",
       "      <th>occupation</th>\n",
       "      <th>relationship</th>\n",
       "      <th>race</th>\n",
       "      <th>sex</th>\n",
       "      <th>capital-gain</th>\n",
       "      <th>capital-loss</th>\n",
       "      <th>hours-per-week</th>\n",
       "      <th>native-country</th>\n",
       "      <th>salary</th>\n",
       "    </tr>\n",
       "  </thead>\n",
       "  <tbody>\n",
       "    <tr>\n",
       "      <th>0</th>\n",
       "      <td>39</td>\n",
       "      <td>State-gov</td>\n",
       "      <td>77516</td>\n",
       "      <td>Bachelors</td>\n",
       "      <td>13</td>\n",
       "      <td>Never-married</td>\n",
       "      <td>Adm-clerical</td>\n",
       "      <td>Not-in-family</td>\n",
       "      <td>White</td>\n",
       "      <td>Male</td>\n",
       "      <td>2174</td>\n",
       "      <td>0</td>\n",
       "      <td>40</td>\n",
       "      <td>United-States</td>\n",
       "      <td>&lt;=50K</td>\n",
       "    </tr>\n",
       "    <tr>\n",
       "      <th>1</th>\n",
       "      <td>50</td>\n",
       "      <td>Self-emp-not-inc</td>\n",
       "      <td>83311</td>\n",
       "      <td>Bachelors</td>\n",
       "      <td>13</td>\n",
       "      <td>Married-civ-spouse</td>\n",
       "      <td>Exec-managerial</td>\n",
       "      <td>Husband</td>\n",
       "      <td>White</td>\n",
       "      <td>Male</td>\n",
       "      <td>0</td>\n",
       "      <td>0</td>\n",
       "      <td>13</td>\n",
       "      <td>United-States</td>\n",
       "      <td>&lt;=50K</td>\n",
       "    </tr>\n",
       "    <tr>\n",
       "      <th>2</th>\n",
       "      <td>38</td>\n",
       "      <td>Private</td>\n",
       "      <td>215646</td>\n",
       "      <td>HS-grad</td>\n",
       "      <td>9</td>\n",
       "      <td>Divorced</td>\n",
       "      <td>Handlers-cleaners</td>\n",
       "      <td>Not-in-family</td>\n",
       "      <td>White</td>\n",
       "      <td>Male</td>\n",
       "      <td>0</td>\n",
       "      <td>0</td>\n",
       "      <td>40</td>\n",
       "      <td>United-States</td>\n",
       "      <td>&lt;=50K</td>\n",
       "    </tr>\n",
       "  </tbody>\n",
       "</table>\n",
       "</div>"
      ],
      "text/plain": [
       "   age         workclass  fnlwgt  education  education-num  \\\n",
       "0   39         State-gov   77516  Bachelors             13   \n",
       "1   50  Self-emp-not-inc   83311  Bachelors             13   \n",
       "2   38           Private  215646    HS-grad              9   \n",
       "\n",
       "       marital-status         occupation   relationship   race   sex  \\\n",
       "0       Never-married       Adm-clerical  Not-in-family  White  Male   \n",
       "1  Married-civ-spouse    Exec-managerial        Husband  White  Male   \n",
       "2            Divorced  Handlers-cleaners  Not-in-family  White  Male   \n",
       "\n",
       "   capital-gain  capital-loss  hours-per-week native-country salary  \n",
       "0          2174             0              40  United-States  <=50K  \n",
       "1             0             0              13  United-States  <=50K  \n",
       "2             0             0              40  United-States  <=50K  "
      ]
     },
     "execution_count": 4,
     "metadata": {},
     "output_type": "execute_result"
    }
   ],
   "source": [
    "# investigate data\n",
    "print(df.dtypes)\n",
    "print(df.describe())\n",
    "print(len(df)) # 32k rows\n",
    "df.head(3)"
   ]
  },
  {
   "cell_type": "markdown",
   "metadata": {},
   "source": [
    "## Analysis "
   ]
  },
  {
   "cell_type": "code",
   "execution_count": 5,
   "metadata": {},
   "outputs": [
    {
     "data": {
      "text/html": [
       "<div>\n",
       "<style scoped>\n",
       "    .dataframe tbody tr th:only-of-type {\n",
       "        vertical-align: middle;\n",
       "    }\n",
       "\n",
       "    .dataframe tbody tr th {\n",
       "        vertical-align: top;\n",
       "    }\n",
       "\n",
       "    .dataframe thead th {\n",
       "        text-align: right;\n",
       "    }\n",
       "</style>\n",
       "<table border=\"1\" class=\"dataframe\">\n",
       "  <thead>\n",
       "    <tr style=\"text-align: right;\">\n",
       "      <th></th>\n",
       "      <th>race</th>\n",
       "      <th>pct_of_total</th>\n",
       "    </tr>\n",
       "  </thead>\n",
       "  <tbody>\n",
       "    <tr>\n",
       "      <th>White</th>\n",
       "      <td>27816</td>\n",
       "      <td>85.4</td>\n",
       "    </tr>\n",
       "    <tr>\n",
       "      <th>Black</th>\n",
       "      <td>3124</td>\n",
       "      <td>9.6</td>\n",
       "    </tr>\n",
       "    <tr>\n",
       "      <th>Asian-Pac-Islander</th>\n",
       "      <td>1039</td>\n",
       "      <td>3.2</td>\n",
       "    </tr>\n",
       "    <tr>\n",
       "      <th>Amer-Indian-Eskimo</th>\n",
       "      <td>311</td>\n",
       "      <td>1.0</td>\n",
       "    </tr>\n",
       "    <tr>\n",
       "      <th>Other</th>\n",
       "      <td>271</td>\n",
       "      <td>0.8</td>\n",
       "    </tr>\n",
       "  </tbody>\n",
       "</table>\n",
       "</div>"
      ],
      "text/plain": [
       "                     race  pct_of_total\n",
       "White               27816          85.4\n",
       "Black                3124           9.6\n",
       "Asian-Pac-Islander   1039           3.2\n",
       "Amer-Indian-Eskimo    311           1.0\n",
       "Other                 271           0.8"
      ]
     },
     "execution_count": 5,
     "metadata": {},
     "output_type": "execute_result"
    }
   ],
   "source": [
    "# How many of each race are represented in this dataset? This should be a Pandas series with race names as the index labels.\n",
    "\n",
    "race = df.race.value_counts()\n",
    "race\n",
    "\n",
    "race2 = race.to_frame()\n",
    "race2['pct_of_total'] = round(race / sum(race) * 100, 1)\n",
    "race2"
   ]
  },
  {
   "cell_type": "markdown",
   "metadata": {},
   "source": [
    "Roughly 85% of the census population is White. Is this Census data accurate? Of what population is it looking at? Only 32k samples means this data may be a sample of the original source. Becareful drawing conclusions from this dataset. "
   ]
  },
  {
   "cell_type": "code",
   "execution_count": 6,
   "metadata": {},
   "outputs": [
    {
     "name": "stdout",
     "output_type": "stream",
     "text": [
      "['Male' 'Female']\n",
      "39.43354749885268\n"
     ]
    }
   ],
   "source": [
    "# What is the average age of men?\n",
    "print(df.sex.unique())\n",
    "males = df[df.sex == 'Male']\n",
    "average_age_men = round(males.age.mean(), 1)\n",
    "print(average_age_men)\n",
    "    "
   ]
  },
  {
   "cell_type": "code",
   "execution_count": 7,
   "metadata": {},
   "outputs": [
    {
     "data": {
      "image/png": "[encoded data removed]",
      "text/plain": [
       "<Figure size 600x400 with 1 Axes>"
      ]
     },
     "metadata": {},
     "output_type": "display_data"
    }
   ],
   "source": [
    "# let's plot the distribution of ages\n",
    "fig, ax = plt.subplots(figsize=(6, 4))\n",
    "male_dist = males.age.hist(ax=ax)\n",
    "plt.title(\"Census 1994: Male Age Distribution\")\n",
    "plt.xlabel(\"Age\")\n",
    "plt.ylabel(\"Count\")\n",
    "plt.grid(axis='x')"
   ]
  },
  {
   "cell_type": "code",
   "execution_count": 8,
   "metadata": {},
   "outputs": [
    {
     "name": "stdout",
     "output_type": "stream",
     "text": [
      "count    21790.000000\n",
      "mean        39.433547\n",
      "std         13.370630\n",
      "min         17.000000\n",
      "25%         29.000000\n",
      "50%         38.000000\n",
      "75%         48.000000\n",
      "max         90.000000\n",
      "Name: age, dtype: float64\n"
     ]
    },
    {
     "data": {
      "text/plain": [
       "(16.999, 29.0]    5725\n",
       "(29.0, 38.0]      5477\n",
       "(48.0, 90.0]      5420\n",
       "(38.0, 48.0]      5168\n",
       "Name: quantiles, dtype: int64"
      ]
     },
     "execution_count": 8,
     "metadata": {},
     "output_type": "execute_result"
    }
   ],
   "source": [
    "# note the interval of 25%, 50%, 75% \n",
    "print(males.age.describe())\n",
    "\n",
    "# we can bin the data this way for quicker look\n",
    "males['quantiles'] = pd.qcut(males.age, q=4)\n",
    "males.quantiles.value_counts()"
   ]
  },
  {
   "cell_type": "markdown",
   "metadata": {},
   "source": [
    "Census data includes only people ages 17 or older. Sample population has an average age of 40, most users skew younger. \n",
    "At a glance, we can see that 50% of users are under the age of 38. "
   ]
  },
  {
   "cell_type": "code",
   "execution_count": 9,
   "metadata": {},
   "outputs": [
    {
     "name": "stdout",
     "output_type": "stream",
     "text": [
      "['10th', '11th', '12th', '1st-4th', '5th-6th', '7th-8th', '9th', 'Assoc-acdm', 'Assoc-voc', 'Bachelors', 'Doctorate', 'HS-grad', 'Masters', 'Preschool', 'Prof-school', 'Some-college']\n",
      "0.16446055096587942\n"
     ]
    }
   ],
   "source": [
    "# What is the percentage of people who have a Bachelor's degree?\n",
    "print(sorted(df.education.unique()))\n",
    "percentage_bachelors = sum(df.education == 'Bachelors') / len(df)\n",
    "print(percentage_bachelors)"
   ]
  },
  {
   "cell_type": "markdown",
   "metadata": {},
   "source": [
    "Here we can see that 16.4% of people in the Census have a Bachelors Degree"
   ]
  },
  {
   "cell_type": "code",
   "execution_count": 10,
   "metadata": {},
   "outputs": [
    {
     "data": {
      "text/html": [
       "<div>\n",
       "<style scoped>\n",
       "    .dataframe tbody tr th:only-of-type {\n",
       "        vertical-align: middle;\n",
       "    }\n",
       "\n",
       "    .dataframe tbody tr th {\n",
       "        vertical-align: top;\n",
       "    }\n",
       "\n",
       "    .dataframe thead th {\n",
       "        text-align: right;\n",
       "    }\n",
       "</style>\n",
       "<table border=\"1\" class=\"dataframe\">\n",
       "  <thead>\n",
       "    <tr style=\"text-align: right;\">\n",
       "      <th></th>\n",
       "      <th>education2</th>\n",
       "      <th>pct_of_total</th>\n",
       "    </tr>\n",
       "  </thead>\n",
       "  <tbody>\n",
       "    <tr>\n",
       "      <th>HS-grad</th>\n",
       "      <td>10501</td>\n",
       "      <td>32.3</td>\n",
       "    </tr>\n",
       "    <tr>\n",
       "      <th>Some-college</th>\n",
       "      <td>7291</td>\n",
       "      <td>22.4</td>\n",
       "    </tr>\n",
       "    <tr>\n",
       "      <th>Bachelors</th>\n",
       "      <td>5355</td>\n",
       "      <td>16.4</td>\n",
       "    </tr>\n",
       "    <tr>\n",
       "      <th>K-12</th>\n",
       "      <td>4253</td>\n",
       "      <td>13.1</td>\n",
       "    </tr>\n",
       "    <tr>\n",
       "      <th>Masters</th>\n",
       "      <td>1723</td>\n",
       "      <td>5.3</td>\n",
       "    </tr>\n",
       "    <tr>\n",
       "      <th>Assoc-voc</th>\n",
       "      <td>1382</td>\n",
       "      <td>4.2</td>\n",
       "    </tr>\n",
       "    <tr>\n",
       "      <th>Assoc-acdm</th>\n",
       "      <td>1067</td>\n",
       "      <td>3.3</td>\n",
       "    </tr>\n",
       "    <tr>\n",
       "      <th>Prof-school</th>\n",
       "      <td>576</td>\n",
       "      <td>1.8</td>\n",
       "    </tr>\n",
       "    <tr>\n",
       "      <th>Doctorate</th>\n",
       "      <td>413</td>\n",
       "      <td>1.3</td>\n",
       "    </tr>\n",
       "  </tbody>\n",
       "</table>\n",
       "</div>"
      ],
      "text/plain": [
       "              education2  pct_of_total\n",
       "HS-grad            10501          32.3\n",
       "Some-college        7291          22.4\n",
       "Bachelors           5355          16.4\n",
       "K-12                4253          13.1\n",
       "Masters             1723           5.3\n",
       "Assoc-voc           1382           4.2\n",
       "Assoc-acdm          1067           3.3\n",
       "Prof-school          576           1.8\n",
       "Doctorate            413           1.3"
      ]
     },
     "execution_count": 10,
     "metadata": {},
     "output_type": "execute_result"
    }
   ],
   "source": [
    "# clean up education labels, grouping people that are still in K-12 (Preschool to 12 grade)\n",
    "df['education2'] = df.education.apply(lambda x : 'K-12' if x in ['10th', '11th', '12th', '1st-4th', '5th-6th', '7th-8th', '9th', 'Preschool'] else x)\n",
    "\n",
    "education_dist = df.education2.value_counts().to_frame()\n",
    "# education_dist\n",
    "education_dist['pct_of_total'] = round(education_dist['education2'] / sum(education_dist['education2']) * 100, 1)\n",
    "education_dist"
   ]
  },
  {
   "cell_type": "markdown",
   "metadata": {},
   "source": [
    "13.1% of users have education within K-12 still. Even though this is a population of users 17 or older. Could suggest some bugs in data collection or some people only finished preschool, which seems highly unlikely w/ this data. "
   ]
  },
  {
   "cell_type": "code",
   "execution_count": 17,
   "metadata": {},
   "outputs": [
    {
     "name": "stdout",
     "output_type": "stream",
     "text": [
      "Percent of people w/ advanced education making more than 50k: 46.54\n",
      "  education3 salary   cnt  pct_of_total\n",
      "0   Advanced  <=50K  4005      0.534642\n",
      "1   Advanced   >50K  3486      0.465358\n",
      "     education3 salary    cnt  pct_of_total\n",
      "2  Not Advanced  <=50K  20715      0.826286\n",
      "3  Not Advanced   >50K   4355      0.173714\n"
     ]
    }
   ],
   "source": [
    "# What percentage of people with advanced education (`Bachelors`, `Masters`, or `Doctorate`) make more than 50K?\n",
    "# What percentage of people without advanced education make more than 50K?\n",
    "\n",
    "# data transformation and cleaning\n",
    "df['education3'] = df.education.apply(lambda x : 'Advanced' if x in ['Bachelors', 'Masters', 'Doctorate'] else 'Not Advanced')\n",
    "salary = df.groupby('education3').salary.value_counts().to_frame()\n",
    "salary.columns = ['cnt']\n",
    "salary.reset_index(drop=False, inplace=True)\n",
    "\n",
    "# with and without `Bachelors`, `Masters`, or `Doctorate`\n",
    "higher_education = salary[salary.education3 == 'Advanced']\n",
    "lower_education = salary[salary.education3 == 'Not Advanced']\n",
    "# add % of total\n",
    "higher_education['pct_of_total'] = higher_education.cnt / sum(higher_education.cnt)\n",
    "lower_education['pct_of_total'] = lower_education.cnt / sum(lower_education.cnt)\n",
    "\n",
    "# percentage with salary >50K\n",
    "higher_education_rich = round(higher_education[higher_education.salary == '>50K'].pct_of_total.iloc[0] * 100, 1) \n",
    "lower_education_rich = round(lower_education[lower_education.salary == '>50K'].pct_of_total.iloc[0] * 100, 1) \n",
    "\n",
    "print(f'Percent of people w/ advanced education making more than 50k: {higher_education_rich}')\n",
    "# , lower_education_rich)\n",
    "print(higher_education)\n",
    "print(lower_education)"
   ]
  },
  {
   "cell_type": "code",
   "execution_count": 18,
   "metadata": {},
   "outputs": [
    {
     "data": {
      "text/plain": [
       "17.37"
      ]
     },
     "execution_count": 18,
     "metadata": {},
     "output_type": "execute_result"
    }
   ],
   "source": [
    "\n",
    "lower_education_rich"
   ]
  },
  {
   "cell_type": "code",
   "execution_count": 13,
   "metadata": {},
   "outputs": [
    {
     "name": "stdout",
     "output_type": "stream",
     "text": [
      "Minimum Hours Worked per Week: 1\n",
      "count    32561.000000\n",
      "mean        40.437456\n",
      "std         12.347429\n",
      "min          1.000000\n",
      "25%         40.000000\n",
      "50%         40.000000\n",
      "75%         45.000000\n",
      "max         99.000000\n",
      "Name: hours-per-week, dtype: float64\n"
     ]
    },
    {
     "data": {
      "text/html": [
       "<div>\n",
       "<style scoped>\n",
       "    .dataframe tbody tr th:only-of-type {\n",
       "        vertical-align: middle;\n",
       "    }\n",
       "\n",
       "    .dataframe tbody tr th {\n",
       "        vertical-align: top;\n",
       "    }\n",
       "\n",
       "    .dataframe thead th {\n",
       "        text-align: right;\n",
       "    }\n",
       "</style>\n",
       "<table border=\"1\" class=\"dataframe\">\n",
       "  <thead>\n",
       "    <tr style=\"text-align: right;\">\n",
       "      <th></th>\n",
       "      <th>index</th>\n",
       "      <th>hours-per-week-buckets</th>\n",
       "      <th>pct_of_total</th>\n",
       "    </tr>\n",
       "  </thead>\n",
       "  <tbody>\n",
       "    <tr>\n",
       "      <th>0</th>\n",
       "      <td>40 hours</td>\n",
       "      <td>15217</td>\n",
       "      <td>47.0</td>\n",
       "    </tr>\n",
       "    <tr>\n",
       "      <th>1</th>\n",
       "      <td>&gt; 40 hours</td>\n",
       "      <td>9373</td>\n",
       "      <td>29.0</td>\n",
       "    </tr>\n",
       "    <tr>\n",
       "      <th>2</th>\n",
       "      <td>&gt;= 20 hours</td>\n",
       "      <td>6059</td>\n",
       "      <td>19.0</td>\n",
       "    </tr>\n",
       "    <tr>\n",
       "      <th>3</th>\n",
       "      <td>&lt; 20 hours</td>\n",
       "      <td>1704</td>\n",
       "      <td>5.0</td>\n",
       "    </tr>\n",
       "    <tr>\n",
       "      <th>4</th>\n",
       "      <td>&gt; 80+ hours</td>\n",
       "      <td>208</td>\n",
       "      <td>1.0</td>\n",
       "    </tr>\n",
       "  </tbody>\n",
       "</table>\n",
       "</div>"
      ],
      "text/plain": [
       "         index  hours-per-week-buckets  pct_of_total\n",
       "0     40 hours                   15217          47.0\n",
       "1   > 40 hours                    9373          29.0\n",
       "2  >= 20 hours                    6059          19.0\n",
       "3   < 20 hours                    1704           5.0\n",
       "4  > 80+ hours                     208           1.0"
      ]
     },
     "execution_count": 13,
     "metadata": {},
     "output_type": "execute_result"
    }
   ],
   "source": [
    "# What is the minimum number of hours a person works per week (hours-per-week feature)?\n",
    "min_work_hours = min(df['hours-per-week'])\n",
    "print(\"Minimum Hours Worked per Week:\", min_work_hours)\n",
    "\n",
    "# looking at the value counts, it seems that there is quite a range of values for hours worked per week\n",
    "# df['hours-per-week'].value_counts()\n",
    "print(df['hours-per-week'].describe()) # we also notice the max hours worked per week is 99 \n",
    "\n",
    "def hr_buckets(hours):\n",
    "    if hours > 80:\n",
    "        return \"> 80+ hours\"\n",
    "    elif hours > 40:\n",
    "        return \"> 40 hours\"\n",
    "    elif hours == 40: \n",
    "        return \"40 hours\"\n",
    "    elif hours >= 20:\n",
    "        return '>= 20 hours'\n",
    "    else: \n",
    "        return '< 20 hours'\n",
    "    \n",
    "df['hours-per-week-buckets'] = df['hours-per-week'].apply(lambda x : hr_buckets(x))\n",
    "buckets = df['hours-per-week-buckets'].value_counts().to_frame().reset_index()\n",
    "buckets['pct_of_total'] = round(buckets['hours-per-week-buckets'] / sum(buckets['hours-per-week-buckets']) * 100)\n",
    "buckets"
   ]
  },
  {
   "cell_type": "markdown",
   "metadata": {},
   "source": [
    "It seems the minimum hours per week a person works is 1 hour. \n",
    "\n",
    "47% of people work 40 hours (the standard). Less than 5% of people work less than 20 hours and only 1% of people work over 80 hours."
   ]
  },
  {
   "cell_type": "code",
   "execution_count": 14,
   "metadata": {},
   "outputs": [
    {
     "name": "stdout",
     "output_type": "stream",
     "text": [
      "Percentage of people working 1 hour per week that make >50k : 10.0%\n"
     ]
    }
   ],
   "source": [
    "\n",
    "# What percentage of the people who work the minimum number of hours per week have a salary of >50K?\n",
    "num_min_workers = df[df['hours-per-week'] == min_work_hours]\n",
    "min_workers = df[df['hours-per-week'] == min_work_hours]['salary'] == '>50K'\n",
    "\n",
    "rich_percentage = sum(min_workers) / len(min_workers) * 100\n",
    "print('Percentage of people working 1 hour per week that make >50k :', f'{rich_percentage}%')"
   ]
  },
  {
   "cell_type": "code",
   "execution_count": 15,
   "metadata": {},
   "outputs": [
    {
     "name": "stdout",
     "output_type": "stream",
     "text": [
      "The country w/ the highest percentage of people earning >50k is Iran at 42.0%. Sample Size: 43.0\n"
     ]
    }
   ],
   "source": [
    "# What country has the highest percentage of people that earn >50K?\n",
    "\n",
    "salaries = df.groupby('native-country')['salary'].value_counts().to_frame(name='user_cnt').reset_index()\n",
    "df_salary = salaries.pivot(index='native-country', columns='salary', values='user_cnt')\n",
    "df_salary['total_users'] = df_salary['>50K'] + df_salary['<=50K']\n",
    "df_salary['pct_salary_50k_plus'] = round(df_salary['>50K'] / df_salary['total_users'] * 100, 1)\n",
    "df_salary_sorted = df_salary.sort_values('pct_salary_50k_plus', ascending=False)\n",
    "\n",
    "highest_earning_country = df_salary_sorted.head(1).index[0]\n",
    "highest_earning_country_percentage = df_salary_sorted.head(1)['pct_salary_50k_plus'][0]\n",
    "print(f\"The country w/ the highest percentage of people earning >50k is {highest_earning_country} at {highest_earning_country_percentage}%. Sample Size: {df_salary_sorted.head(1)['total_users'][0]}\")"
   ]
  },
  {
   "cell_type": "code",
   "execution_count": 16,
   "metadata": {},
   "outputs": [
    {
     "name": "stdout",
     "output_type": "stream",
     "text": [
      "                  occupation\n",
      "Prof-specialty            25\n",
      "Exec-managerial            8\n",
      "Other-service              2\n",
      "Tech-support               2\n",
      "Transport-moving           1\n",
      "Sales                      1\n",
      "Adm-clerical               1\n",
      "\n",
      "Most popular occupation in India making >50K: Prof-specialty\n"
     ]
    }
   ],
   "source": [
    "# Identify the most popular occupation for those who earn >50K in India.\n",
    "IN_df = df[(df['native-country'] == 'India') & (df['salary'] == '>50K')]\n",
    "IN_df_occ = IN_df.occupation.value_counts().to_frame()\n",
    "print(IN_df_occ)\n",
    "\n",
    "top_IN_occupation = IN_df_occ.head(1).index[0]\n",
    "print()\n",
    "print(f\"Most popular occupation in India making >50K: {top_IN_occupation}\")"
   ]
  }
 ],
 "metadata": {
  "kernelspec": {
   "display_name": "Python 3",
   "language": "python",
   "name": "python3"
  },
  "language_info": {
   "codemirror_mode": {
    "name": "ipython",
    "version": 3
   },
   "file_extension": ".py",
   "mimetype": "text/x-python",
   "name": "python",
   "nbconvert_exporter": "python",
   "pygments_lexer": "ipython3",
   "version": "3.10.9"
  }
 },
 "nbformat": 4,
 "nbformat_minor": 2
}
